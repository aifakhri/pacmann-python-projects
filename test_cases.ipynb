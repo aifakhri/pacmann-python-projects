{
 "cells": [
  {
   "cell_type": "code",
   "execution_count": 1,
   "metadata": {},
   "outputs": [],
   "source": [
    "from cashier import Transaction"
   ]
  },
  {
   "cell_type": "code",
   "execution_count": 2,
   "metadata": {},
   "outputs": [],
   "source": [
    "cashier = Transaction()"
   ]
  },
  {
   "cell_type": "markdown",
   "metadata": {},
   "source": [
    "#### Test 1"
   ]
  },
  {
   "cell_type": "code",
   "execution_count": 3,
   "metadata": {},
   "outputs": [
    {
     "name": "stdout",
     "output_type": "stream",
     "text": [
      "You've submitted these items:  {'Ayam Goreng': [2, 20000], 'Pasta Gigi': [3, 15000]}\n"
     ]
    }
   ],
   "source": [
    "cashier.add_item(\"Ayam Goreng\", 2, 20000)\n",
    "cashier.add_item(\"Pasta Gigi\", 3, 15000)\n",
    "\n",
    "print(\"You've submitted these items: \", cashier.container)"
   ]
  },
  {
   "cell_type": "markdown",
   "metadata": {},
   "source": [
    "#### Test 2"
   ]
  },
  {
   "cell_type": "code",
   "execution_count": 4,
   "metadata": {},
   "outputs": [
    {
     "name": "stdout",
     "output_type": "stream",
     "text": [
      "{'Ayam Goreng': [2, 20000]}\n"
     ]
    }
   ],
   "source": [
    "cashier.delete_item(\"Pasta Gigi\")\n",
    "\n",
    "print(cashier.container)"
   ]
  },
  {
   "cell_type": "markdown",
   "metadata": {},
   "source": [
    "#### Test 3"
   ]
  },
  {
   "cell_type": "code",
   "execution_count": 5,
   "metadata": {},
   "outputs": [
    {
     "name": "stdout",
     "output_type": "stream",
     "text": [
      "All Transactions Have Been Deleted Successfully\n"
     ]
    }
   ],
   "source": [
    "print(cashier.reset_transaction())"
   ]
  },
  {
   "cell_type": "markdown",
   "metadata": {},
   "source": [
    "#### Test 4"
   ]
  },
  {
   "cell_type": "code",
   "execution_count": 6,
   "metadata": {},
   "outputs": [
    {
     "name": "stdout",
     "output_type": "stream",
     "text": [
      "CONGRATULATION, YOU GET 5% DISCOUNT!\n",
      "\n",
      "The products you buy are: {'Ayam Goreng': [2, 20000], 'Pasta Gigi': [3, 15000], 'Mainan Mobil': [1, 200000], 'Mi Instan': [5, 3000]}\n",
      "Your Total Amount of Purchase is 285000.0\n"
     ]
    }
   ],
   "source": [
    "cashier.add_item(\"Ayam Goreng\", 2, 20000)\n",
    "cashier.add_item(\"Pasta Gigi\", 3, 15000)\n",
    "cashier.add_item(\"Mainan Mobil\", 1, 200000)\n",
    "cashier.add_item(\"Mi Instan\", 5, 3000)\n",
    "\n",
    "print(cashier.total_price())"
   ]
  }
 ],
 "metadata": {
  "kernelspec": {
   "display_name": "Python 3.10.0 64-bit",
   "language": "python",
   "name": "python3"
  },
  "language_info": {
   "codemirror_mode": {
    "name": "ipython",
    "version": 3
   },
   "file_extension": ".py",
   "mimetype": "text/x-python",
   "name": "python",
   "nbconvert_exporter": "python",
   "pygments_lexer": "ipython3",
   "version": "3.10.0"
  },
  "orig_nbformat": 4,
  "vscode": {
   "interpreter": {
    "hash": "ec71345ca5d37a0e9a74c52dd4df8f08155a9116efa2c99cb350734e2b4aad3e"
   }
  }
 },
 "nbformat": 4,
 "nbformat_minor": 2
}
